{
 "cells": [
  {
   "cell_type": "code",
   "execution_count": 16,
   "metadata": {},
   "outputs": [],
   "source": [
    "#Import needed modules\n",
    "#This assumes you've set up a virtual environment using the instructions in \"0 instructions.txt\"\n",
    "from owslib.wfs import WebFeatureService\n",
    "from datetime import datetime\n",
    "import time\n",
    "import json"
   ]
  },
  {
   "cell_type": "code",
   "execution_count": 17,
   "metadata": {},
   "outputs": [],
   "source": [
    "def printGreen(skk): print(\"\\033[92m {}\\033[00m\" .format(skk))"
   ]
  },
  {
   "cell_type": "code",
   "execution_count": 18,
   "metadata": {},
   "outputs": [],
   "source": [
    "url = \"https://opendata.apps.mow.vlaanderen.be/opendata-geoserver/awv/wfs?version=2.0.0\" #&service=wfs&request=GetCapabilities\"\n",
    "wfs = WebFeatureService(url=url, version=\"2.0.0\")"
   ]
  },
  {
   "cell_type": "code",
   "execution_count": 20,
   "metadata": {},
   "outputs": [
    {
     "name": "stdout",
     "output_type": "stream",
     "text": [
      "\u001b[92m 2022-02-25 13:41:29.413876 --  #features: 1513255\u001b[00m\n"
     ]
    }
   ],
   "source": [
    "# Check expected number of features\n",
    "response = wfs.getfeature(typename=\"awv:Verkeersborden.Vlaanderen_Borden\", outputFormat=\"json\", maxfeatures=1)\n",
    "r = response.read()\n",
    "d = r.decode('UTF-8')\n",
    "j = json.loads(d)\n",
    "total_features = j['totalFeatures']\n",
    "printGreen(str(datetime.now()) + \" --  #features: \" + str(total_features))\n"
   ]
  },
  {
   "cell_type": "code",
   "execution_count": 21,
   "metadata": {},
   "outputs": [],
   "source": [
    "#Set up the query\n",
    "from owslib.wfs import WebFeatureService\n",
    "\n",
    "def cleanup_stupid_user_input(data):\n",
    "    print(\"start cleaning\")\n",
    "    replace1 = data.replace(b'\\n',b' ')\n",
    "    replace2 = replace1.replace(b'\\r ',b'\\r\\n')\n",
    "    print(\"stop cleaning\")\n",
    "    return replace2\n",
    "url = \"https://opendata.apps.mow.vlaanderen.be/opendata-geoserver/awv/wfs?version=2.0.0\" #&service=wfs&request=GetCapabilities\"\n",
    "wfs = WebFeatureService(url=url, version=\"2.0.0\", timeout=3600)\n",
    "\n",
    "vb_type_name = \"awv:Verkeersborden.Vlaanderen_Borden\"\n",
    "vb_max = total_features\n",
    "vb_output_format = \"csv\"\n",
    "vb_startindex = 0 #starts at 0 cfr. WFS 2.0 spec\n"
   ]
  },
  {
   "cell_type": "code",
   "execution_count": 22,
   "metadata": {
    "scrolled": true
   },
   "outputs": [
    {
     "name": "stdout",
     "output_type": "stream",
     "text": [
      "start\n",
      "stop\n"
     ]
    }
   ],
   "source": [
    "# Actually run the query (this takes half an hour!)\n",
    "print(\"start\")\n",
    "response = wfs.getfeature(typename=vb_type_name, maxfeatures=vb_max, outputFormat=vb_output_format, startindex=vb_startindex)\n",
    "print(\"stop\")\n"
   ]
  },
  {
   "cell_type": "code",
   "execution_count": 23,
   "metadata": {},
   "outputs": [
    {
     "name": "stdout",
     "output_type": "stream",
     "text": [
      "start cleaning\n",
      "stop cleaning\n"
     ]
    }
   ],
   "source": [
    "# Don't run this until the process above returned \"stop\"\n",
    "# Do some cleaning and write to current folder\n",
    "r = cleanup_stupid_user_input(response.read())\n",
    "test = r.decode('UTF-8')\n",
    "\n",
    "with open(file=\"output.csv\", encoding='UTF-8', mode='w', newline='') as csvfile:\n",
    "    csvfile.write(test)"
   ]
  },
  {
   "cell_type": "code",
   "execution_count": 24,
   "metadata": {},
   "outputs": [
    {
     "name": "stdout",
     "output_type": "stream",
     "text": [
      "\u001b[92m 2022-02-25 13:43:37.118203 --  #features BEFORE download: 1513255\u001b[00m\n",
      "\u001b[92m 2022-02-25 13:43:37.118203 --  #features AFTER download: 1513260\u001b[00m\n"
     ]
    }
   ],
   "source": [
    "# Now open the CSV and check if the last record contains an error / if the number of records equals the number that we requested\n",
    "# Let's check if the number of records has changed since we first asked\n",
    "\n",
    "response = wfs.getfeature(typename=\"awv:Verkeersborden.Vlaanderen_Borden\", outputFormat=\"json\", maxfeatures=1)\n",
    "r = response.read()\n",
    "d = r.decode('UTF-8')\n",
    "j = json.loads(d)\n",
    "total_features_post = j['totalFeatures']\n",
    "printGreen(str(datetime.now()) + \" --  #features BEFORE download: \" + str(total_features))\n",
    "printGreen(str(datetime.now()) + \" --  #features AFTER download: \" + str(total_features_post))\n"
   ]
  },
  {
   "cell_type": "code",
   "execution_count": null,
   "metadata": {},
   "outputs": [],
   "source": []
  }
 ],
 "metadata": {
  "kernelspec": {
   "display_name": "Python 3 (ipykernel)",
   "language": "python",
   "name": "python3"
  },
  "language_info": {
   "codemirror_mode": {
    "name": "ipython",
    "version": 3
   },
   "file_extension": ".py",
   "mimetype": "text/x-python",
   "name": "python",
   "nbconvert_exporter": "python",
   "pygments_lexer": "ipython3",
   "version": "3.8.12"
  }
 },
 "nbformat": 4,
 "nbformat_minor": 4
}
