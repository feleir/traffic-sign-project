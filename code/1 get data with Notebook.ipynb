{
 "cells": [
  {
   "cell_type": "code",
   "execution_count": 1,
   "metadata": {},
   "outputs": [],
   "source": [
    "#Import needed modules\n",
    "#This assumes you've set up a virtual environment using the instructions in \"0 instructions.txt\"\n",
    "from owslib.wfs import WebFeatureService\n",
    "from datetime import datetime\n",
    "import time\n",
    "import json"
   ]
  },
  {
   "cell_type": "code",
   "execution_count": 2,
   "metadata": {},
   "outputs": [],
   "source": [
    "url = \"https://opendata.apps.mow.vlaanderen.be/opendata-geoserver/awv/wfs?version=2.0.0\" #&service=wfs&request=GetCapabilities\"\n",
    "wfs = WebFeatureService(url=url, version=\"2.0.0\")"
   ]
  },
  {
   "cell_type": "code",
   "execution_count": 3,
   "metadata": {},
   "outputs": [
    {
     "name": "stdout",
     "output_type": "stream",
     "text": [
      "2022-07-26 09:45:16.689602 --  #features: 1517421\n"
     ]
    }
   ],
   "source": [
    "# Check expected number of features\n",
    "response = wfs.getfeature(typename=\"awv:Verkeersborden.Vlaanderen_Borden\", outputFormat=\"json\", maxfeatures=1)\n",
    "r = response.read()\n",
    "d = r.decode('UTF-8')\n",
    "j = json.loads(d)\n",
    "total_features = j['totalFeatures']\n",
    "print(str(datetime.now()) + \" --  #features: \" + str(total_features))\n"
   ]
  },
  {
   "cell_type": "code",
   "execution_count": 4,
   "metadata": {},
   "outputs": [],
   "source": [
    "#Set up the query\n",
    "from owslib.wfs import WebFeatureService\n",
    "\n",
    "def remove_linebreaks(data):\n",
    "    print(\"start cleaning\")\n",
    "    replace1 = data.replace(b'\\n',b' ')\n",
    "    replace2 = replace1.replace(b'\\r ',b'\\r\\n')\n",
    "    print(\"stop cleaning\")\n",
    "    return replace2\n",
    "url = \"https://opendata.apps.mow.vlaanderen.be/opendata-geoserver/awv/wfs?version=2.0.0\" #&service=wfs&request=GetCapabilities\"\n",
    "wfs = WebFeatureService(url=url, version=\"2.0.0\", timeout=3600)\n",
    "\n",
    "vb_type_name = \"awv:Verkeersborden.Vlaanderen_Borden\"\n",
    "vb_max = total_features\n",
    "vb_output_format = \"csv\"\n",
    "vb_startindex = 0 #starts at 0 cfr. WFS 2.0 spec\n"
   ]
  },
  {
   "cell_type": "code",
   "execution_count": 9,
   "metadata": {
    "scrolled": true
   },
   "outputs": [
    {
     "name": "stdout",
     "output_type": "stream",
     "text": [
      "start\n",
      "stop\n"
     ]
    }
   ],
   "source": [
    "# Actually run the query (this takes half an hour!)\n",
    "print(\"start\")\n",
    "response = wfs.getfeature(typename=vb_type_name, maxfeatures=vb_max, outputFormat=vb_output_format, startindex=vb_startindex)\n",
    "print(\"stop\")\n"
   ]
  },
  {
   "cell_type": "code",
   "execution_count": 10,
   "metadata": {},
   "outputs": [
    {
     "name": "stdout",
     "output_type": "stream",
     "text": [
      "start cleaning\n",
      "stop cleaning\n"
     ]
    }
   ],
   "source": [
    "# Notebook quirk: only start running this after the step above is done\n",
    "# Do some cleaning and write to current folder\n",
    "r = remove_linebreaks(response.read())\n",
    "test = r.decode('UTF-8')\n",
    "\n",
    "with open(file=\"output.csv\", encoding='UTF-8', mode='w', newline='') as csvfile:\n",
    "    csvfile.write(test)"
   ]
  },
  {
   "cell_type": "code",
   "execution_count": 7,
   "metadata": {},
   "outputs": [
    {
     "name": "stdout",
     "output_type": "stream",
     "text": [
      "2022-07-26 09:59:14.065327 --  #features BEFORE download: 1517421\n",
      "2022-07-26 09:59:14.065327 --  #features AFTER download: 1517407\n"
     ]
    }
   ],
   "source": [
    "# Now open the CSV and check if the last record contains an error / if the number of records equals the number that we requested\n",
    "# Let's check if the number of records has changed since we first asked\n",
    "\n",
    "response = wfs.getfeature(typename=\"awv:Verkeersborden.Vlaanderen_Borden\", outputFormat=\"json\", maxfeatures=1)\n",
    "r = response.read()\n",
    "d = r.decode('UTF-8')\n",
    "j = json.loads(d)\n",
    "total_features_post = j['totalFeatures']\n",
    "print(str(datetime.now()) + \" --  #features BEFORE download: \" + str(total_features))\n",
    "print(str(datetime.now()) + \" --  #features AFTER download: \" + str(total_features_post))\n"
   ]
  },
  {
   "cell_type": "code",
   "execution_count": null,
   "metadata": {},
   "outputs": [],
   "source": []
  }
 ],
 "metadata": {
  "kernelspec": {
   "display_name": "Python 3 (ipykernel)",
   "language": "python",
   "name": "python3"
  },
  "language_info": {
   "codemirror_mode": {
    "name": "ipython",
    "version": 3
   },
   "file_extension": ".py",
   "mimetype": "text/x-python",
   "name": "python",
   "nbconvert_exporter": "python",
   "pygments_lexer": "ipython3",
   "version": "3.8.12"
  }
 },
 "nbformat": 4,
 "nbformat_minor": 4
}
